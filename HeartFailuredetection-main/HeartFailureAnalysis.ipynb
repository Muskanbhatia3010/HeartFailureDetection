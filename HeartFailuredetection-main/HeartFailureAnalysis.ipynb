{
 "cells": [
  {
   "cell_type": "code",
   "execution_count": 94,
   "id": "e78f98ab",
   "metadata": {},
   "outputs": [],
   "source": [
    "###############################################################################\n",
    "#                              Importing required Libraries                    #\n",
    "###############################################################################\n",
    "import pandas as pd\n",
    "import numpy as np\n",
    "import matplotlib.pyplot as plt\n",
    "import scipy \n",
    "import seaborn as sns\n",
    "from pandas.plotting import parallel_coordinates\n",
    "import plotly\n",
    "import plotly.graph_objs as go\n",
    "from sklearn import preprocessing\n",
    "from sklearn.preprocessing import StandardScaler\n",
    "from sklearn.preprocessing import MinMaxScaler\n",
    "from sklearn.model_selection import train_test_split,cross_val_score\n",
    "from sklearn.datasets import make_friedman1\n",
    "from sklearn.feature_selection import RFE\n",
    "from scipy import stats\n",
    "from sklearn.ensemble import RandomForestClassifier\n",
    "from sklearn.datasets import make_classification\n",
    "import math\n",
    "from sklearn import preprocessing\n",
    "from sklearn.decomposition import PCA\n",
    "from sklearn import ensemble\n",
    "from sklearn.metrics import accuracy_score\n",
    "from sklearn.model_selection import KFold \n",
    "from sklearn.ensemble import RandomForestClassifier\n",
    "from sklearn.pipeline import Pipeline\n",
    "from sklearn import metrics\n",
    "from sklearn.model_selection import train_test_split\n",
    "import itertools\n",
    "from sklearn.feature_selection import RFECV\n",
    "from sklearn.ensemble import RandomForestClassifier\n",
    "from sklearn.neighbors import KNeighborsClassifier as knn\n",
    "from sklearn.metrics import confusion_matrix as cf\n",
    "from sklearn.metrics import precision_recall_fscore_support as f1\n",
    "from sklearn.metrics import accuracy_score \n",
    "import matplotlib.pyplot as plt\n",
    "import warnings\n",
    "warnings.filterwarnings('ignore')\n"
   ]
  },
  {
   "cell_type": "code",
   "execution_count": 95,
   "id": "98884259",
   "metadata": {},
   "outputs": [
    {
     "data": {
      "text/html": [
       "<div>\n",
       "<style scoped>\n",
       "    .dataframe tbody tr th:only-of-type {\n",
       "        vertical-align: middle;\n",
       "    }\n",
       "\n",
       "    .dataframe tbody tr th {\n",
       "        vertical-align: top;\n",
       "    }\n",
       "\n",
       "    .dataframe thead th {\n",
       "        text-align: right;\n",
       "    }\n",
       "</style>\n",
       "<table border=\"1\" class=\"dataframe\">\n",
       "  <thead>\n",
       "    <tr style=\"text-align: right;\">\n",
       "      <th></th>\n",
       "      <th>age</th>\n",
       "      <th>anaemia</th>\n",
       "      <th>creatinine_phosphokinase</th>\n",
       "      <th>diabetes</th>\n",
       "      <th>ejection_fraction</th>\n",
       "      <th>high_blood_pressure</th>\n",
       "      <th>platelets</th>\n",
       "      <th>serum_creatinine</th>\n",
       "      <th>serum_sodium</th>\n",
       "      <th>sex</th>\n",
       "      <th>smoking</th>\n",
       "      <th>time</th>\n",
       "      <th>DEATH_EVENT</th>\n",
       "    </tr>\n",
       "  </thead>\n",
       "  <tbody>\n",
       "    <tr>\n",
       "      <th>0</th>\n",
       "      <td>75.0</td>\n",
       "      <td>0</td>\n",
       "      <td>582</td>\n",
       "      <td>0</td>\n",
       "      <td>20</td>\n",
       "      <td>1</td>\n",
       "      <td>265000.00</td>\n",
       "      <td>1.9</td>\n",
       "      <td>130</td>\n",
       "      <td>1</td>\n",
       "      <td>0</td>\n",
       "      <td>4</td>\n",
       "      <td>1</td>\n",
       "    </tr>\n",
       "    <tr>\n",
       "      <th>1</th>\n",
       "      <td>55.0</td>\n",
       "      <td>0</td>\n",
       "      <td>7861</td>\n",
       "      <td>0</td>\n",
       "      <td>38</td>\n",
       "      <td>0</td>\n",
       "      <td>263358.03</td>\n",
       "      <td>1.1</td>\n",
       "      <td>136</td>\n",
       "      <td>1</td>\n",
       "      <td>0</td>\n",
       "      <td>6</td>\n",
       "      <td>1</td>\n",
       "    </tr>\n",
       "    <tr>\n",
       "      <th>2</th>\n",
       "      <td>65.0</td>\n",
       "      <td>0</td>\n",
       "      <td>146</td>\n",
       "      <td>0</td>\n",
       "      <td>20</td>\n",
       "      <td>0</td>\n",
       "      <td>162000.00</td>\n",
       "      <td>1.3</td>\n",
       "      <td>129</td>\n",
       "      <td>1</td>\n",
       "      <td>1</td>\n",
       "      <td>7</td>\n",
       "      <td>1</td>\n",
       "    </tr>\n",
       "    <tr>\n",
       "      <th>3</th>\n",
       "      <td>50.0</td>\n",
       "      <td>1</td>\n",
       "      <td>111</td>\n",
       "      <td>0</td>\n",
       "      <td>20</td>\n",
       "      <td>0</td>\n",
       "      <td>210000.00</td>\n",
       "      <td>1.9</td>\n",
       "      <td>137</td>\n",
       "      <td>1</td>\n",
       "      <td>0</td>\n",
       "      <td>7</td>\n",
       "      <td>1</td>\n",
       "    </tr>\n",
       "    <tr>\n",
       "      <th>4</th>\n",
       "      <td>65.0</td>\n",
       "      <td>1</td>\n",
       "      <td>160</td>\n",
       "      <td>1</td>\n",
       "      <td>20</td>\n",
       "      <td>0</td>\n",
       "      <td>327000.00</td>\n",
       "      <td>2.7</td>\n",
       "      <td>116</td>\n",
       "      <td>0</td>\n",
       "      <td>0</td>\n",
       "      <td>8</td>\n",
       "      <td>1</td>\n",
       "    </tr>\n",
       "  </tbody>\n",
       "</table>\n",
       "</div>"
      ],
      "text/plain": [
       "    age  anaemia  creatinine_phosphokinase  diabetes  ejection_fraction  \\\n",
       "0  75.0        0                       582         0                 20   \n",
       "1  55.0        0                      7861         0                 38   \n",
       "2  65.0        0                       146         0                 20   \n",
       "3  50.0        1                       111         0                 20   \n",
       "4  65.0        1                       160         1                 20   \n",
       "\n",
       "   high_blood_pressure  platelets  serum_creatinine  serum_sodium  sex  \\\n",
       "0                    1  265000.00               1.9           130    1   \n",
       "1                    0  263358.03               1.1           136    1   \n",
       "2                    0  162000.00               1.3           129    1   \n",
       "3                    0  210000.00               1.9           137    1   \n",
       "4                    0  327000.00               2.7           116    0   \n",
       "\n",
       "   smoking  time  DEATH_EVENT  \n",
       "0        0     4            1  \n",
       "1        0     6            1  \n",
       "2        1     7            1  \n",
       "3        0     7            1  \n",
       "4        0     8            1  "
      ]
     },
     "execution_count": 95,
     "metadata": {},
     "output_type": "execute_result"
    }
   ],
   "source": [
    "###############################################################################\n",
    "#                              Ingesting data as csv file \n",
    "###############################################################################\n",
    "data = pd.read_csv('heart_failure_clinical_records_dataset.csv')\n",
    "data.head()"
   ]
  },
  {
   "cell_type": "code",
   "execution_count": 96,
   "id": "79d58880",
   "metadata": {},
   "outputs": [
    {
     "data": {
      "text/html": [
       "<div>\n",
       "<style scoped>\n",
       "    .dataframe tbody tr th:only-of-type {\n",
       "        vertical-align: middle;\n",
       "    }\n",
       "\n",
       "    .dataframe tbody tr th {\n",
       "        vertical-align: top;\n",
       "    }\n",
       "\n",
       "    .dataframe thead th {\n",
       "        text-align: right;\n",
       "    }\n",
       "</style>\n",
       "<table border=\"1\" class=\"dataframe\">\n",
       "  <thead>\n",
       "    <tr style=\"text-align: right;\">\n",
       "      <th></th>\n",
       "      <th>age</th>\n",
       "      <th>anaemia</th>\n",
       "      <th>creatinine_phosphokinase</th>\n",
       "      <th>diabetes</th>\n",
       "      <th>ejection_fraction</th>\n",
       "      <th>high_blood_pressure</th>\n",
       "      <th>platelets</th>\n",
       "      <th>serum_creatinine</th>\n",
       "      <th>serum_sodium</th>\n",
       "      <th>sex</th>\n",
       "      <th>smoking</th>\n",
       "      <th>DEATH_EVENT</th>\n",
       "    </tr>\n",
       "  </thead>\n",
       "  <tbody>\n",
       "    <tr>\n",
       "      <th>0</th>\n",
       "      <td>75.0</td>\n",
       "      <td>0</td>\n",
       "      <td>582</td>\n",
       "      <td>0</td>\n",
       "      <td>20</td>\n",
       "      <td>1</td>\n",
       "      <td>265000.00</td>\n",
       "      <td>1.9</td>\n",
       "      <td>130</td>\n",
       "      <td>1</td>\n",
       "      <td>0</td>\n",
       "      <td>1</td>\n",
       "    </tr>\n",
       "    <tr>\n",
       "      <th>1</th>\n",
       "      <td>55.0</td>\n",
       "      <td>0</td>\n",
       "      <td>7861</td>\n",
       "      <td>0</td>\n",
       "      <td>38</td>\n",
       "      <td>0</td>\n",
       "      <td>263358.03</td>\n",
       "      <td>1.1</td>\n",
       "      <td>136</td>\n",
       "      <td>1</td>\n",
       "      <td>0</td>\n",
       "      <td>1</td>\n",
       "    </tr>\n",
       "    <tr>\n",
       "      <th>2</th>\n",
       "      <td>65.0</td>\n",
       "      <td>0</td>\n",
       "      <td>146</td>\n",
       "      <td>0</td>\n",
       "      <td>20</td>\n",
       "      <td>0</td>\n",
       "      <td>162000.00</td>\n",
       "      <td>1.3</td>\n",
       "      <td>129</td>\n",
       "      <td>1</td>\n",
       "      <td>1</td>\n",
       "      <td>1</td>\n",
       "    </tr>\n",
       "    <tr>\n",
       "      <th>3</th>\n",
       "      <td>50.0</td>\n",
       "      <td>1</td>\n",
       "      <td>111</td>\n",
       "      <td>0</td>\n",
       "      <td>20</td>\n",
       "      <td>0</td>\n",
       "      <td>210000.00</td>\n",
       "      <td>1.9</td>\n",
       "      <td>137</td>\n",
       "      <td>1</td>\n",
       "      <td>0</td>\n",
       "      <td>1</td>\n",
       "    </tr>\n",
       "    <tr>\n",
       "      <th>4</th>\n",
       "      <td>65.0</td>\n",
       "      <td>1</td>\n",
       "      <td>160</td>\n",
       "      <td>1</td>\n",
       "      <td>20</td>\n",
       "      <td>0</td>\n",
       "      <td>327000.00</td>\n",
       "      <td>2.7</td>\n",
       "      <td>116</td>\n",
       "      <td>0</td>\n",
       "      <td>0</td>\n",
       "      <td>1</td>\n",
       "    </tr>\n",
       "  </tbody>\n",
       "</table>\n",
       "</div>"
      ],
      "text/plain": [
       "    age  anaemia  creatinine_phosphokinase  diabetes  ejection_fraction  \\\n",
       "0  75.0        0                       582         0                 20   \n",
       "1  55.0        0                      7861         0                 38   \n",
       "2  65.0        0                       146         0                 20   \n",
       "3  50.0        1                       111         0                 20   \n",
       "4  65.0        1                       160         1                 20   \n",
       "\n",
       "   high_blood_pressure  platelets  serum_creatinine  serum_sodium  sex  \\\n",
       "0                    1  265000.00               1.9           130    1   \n",
       "1                    0  263358.03               1.1           136    1   \n",
       "2                    0  162000.00               1.3           129    1   \n",
       "3                    0  210000.00               1.9           137    1   \n",
       "4                    0  327000.00               2.7           116    0   \n",
       "\n",
       "   smoking  DEATH_EVENT  \n",
       "0        0            1  \n",
       "1        0            1  \n",
       "2        1            1  \n",
       "3        0            1  \n",
       "4        0            1  "
      ]
     },
     "execution_count": 96,
     "metadata": {},
     "output_type": "execute_result"
    }
   ],
   "source": [
    "data = data.drop(['time'], axis=1)\n",
    "data.head()"
   ]
  },
  {
   "cell_type": "code",
   "execution_count": 97,
   "id": "48171969",
   "metadata": {},
   "outputs": [
    {
     "data": {
      "text/html": [
       "<div>\n",
       "<style scoped>\n",
       "    .dataframe tbody tr th:only-of-type {\n",
       "        vertical-align: middle;\n",
       "    }\n",
       "\n",
       "    .dataframe tbody tr th {\n",
       "        vertical-align: top;\n",
       "    }\n",
       "\n",
       "    .dataframe thead th {\n",
       "        text-align: right;\n",
       "    }\n",
       "</style>\n",
       "<table border=\"1\" class=\"dataframe\">\n",
       "  <thead>\n",
       "    <tr style=\"text-align: right;\">\n",
       "      <th></th>\n",
       "      <th>age</th>\n",
       "      <th>anaemia</th>\n",
       "      <th>creatinine_phosphokinase</th>\n",
       "      <th>diabetes</th>\n",
       "      <th>ejection_fraction</th>\n",
       "      <th>high_blood_pressure</th>\n",
       "      <th>platelets</th>\n",
       "      <th>serum_creatinine</th>\n",
       "      <th>serum_sodium</th>\n",
       "      <th>sex</th>\n",
       "      <th>smoking</th>\n",
       "      <th>DEATH_EVENT</th>\n",
       "    </tr>\n",
       "  </thead>\n",
       "  <tbody>\n",
       "    <tr>\n",
       "      <th>age</th>\n",
       "      <td>1.000000</td>\n",
       "      <td>0.088006</td>\n",
       "      <td>-0.081584</td>\n",
       "      <td>-0.101012</td>\n",
       "      <td>0.060098</td>\n",
       "      <td>0.093289</td>\n",
       "      <td>-0.052354</td>\n",
       "      <td>0.159187</td>\n",
       "      <td>-0.045966</td>\n",
       "      <td>0.065430</td>\n",
       "      <td>0.018668</td>\n",
       "      <td>0.253729</td>\n",
       "    </tr>\n",
       "    <tr>\n",
       "      <th>anaemia</th>\n",
       "      <td>0.088006</td>\n",
       "      <td>1.000000</td>\n",
       "      <td>-0.190741</td>\n",
       "      <td>-0.012729</td>\n",
       "      <td>0.031557</td>\n",
       "      <td>0.038182</td>\n",
       "      <td>-0.043786</td>\n",
       "      <td>0.052174</td>\n",
       "      <td>0.041882</td>\n",
       "      <td>-0.094769</td>\n",
       "      <td>-0.107290</td>\n",
       "      <td>0.066270</td>\n",
       "    </tr>\n",
       "    <tr>\n",
       "      <th>creatinine_phosphokinase</th>\n",
       "      <td>-0.081584</td>\n",
       "      <td>-0.190741</td>\n",
       "      <td>1.000000</td>\n",
       "      <td>-0.009639</td>\n",
       "      <td>-0.044080</td>\n",
       "      <td>-0.070590</td>\n",
       "      <td>0.024463</td>\n",
       "      <td>-0.016408</td>\n",
       "      <td>0.059550</td>\n",
       "      <td>0.079791</td>\n",
       "      <td>0.002421</td>\n",
       "      <td>0.062728</td>\n",
       "    </tr>\n",
       "    <tr>\n",
       "      <th>diabetes</th>\n",
       "      <td>-0.101012</td>\n",
       "      <td>-0.012729</td>\n",
       "      <td>-0.009639</td>\n",
       "      <td>1.000000</td>\n",
       "      <td>-0.004850</td>\n",
       "      <td>-0.012732</td>\n",
       "      <td>0.092193</td>\n",
       "      <td>-0.046975</td>\n",
       "      <td>-0.089551</td>\n",
       "      <td>-0.157730</td>\n",
       "      <td>-0.147173</td>\n",
       "      <td>-0.001943</td>\n",
       "    </tr>\n",
       "    <tr>\n",
       "      <th>ejection_fraction</th>\n",
       "      <td>0.060098</td>\n",
       "      <td>0.031557</td>\n",
       "      <td>-0.044080</td>\n",
       "      <td>-0.004850</td>\n",
       "      <td>1.000000</td>\n",
       "      <td>0.024445</td>\n",
       "      <td>0.072177</td>\n",
       "      <td>-0.011302</td>\n",
       "      <td>0.175902</td>\n",
       "      <td>-0.148386</td>\n",
       "      <td>-0.067315</td>\n",
       "      <td>-0.268603</td>\n",
       "    </tr>\n",
       "    <tr>\n",
       "      <th>high_blood_pressure</th>\n",
       "      <td>0.093289</td>\n",
       "      <td>0.038182</td>\n",
       "      <td>-0.070590</td>\n",
       "      <td>-0.012732</td>\n",
       "      <td>0.024445</td>\n",
       "      <td>1.000000</td>\n",
       "      <td>0.049963</td>\n",
       "      <td>-0.004935</td>\n",
       "      <td>0.037109</td>\n",
       "      <td>-0.104615</td>\n",
       "      <td>-0.055711</td>\n",
       "      <td>0.079351</td>\n",
       "    </tr>\n",
       "    <tr>\n",
       "      <th>platelets</th>\n",
       "      <td>-0.052354</td>\n",
       "      <td>-0.043786</td>\n",
       "      <td>0.024463</td>\n",
       "      <td>0.092193</td>\n",
       "      <td>0.072177</td>\n",
       "      <td>0.049963</td>\n",
       "      <td>1.000000</td>\n",
       "      <td>-0.041198</td>\n",
       "      <td>0.062125</td>\n",
       "      <td>-0.125120</td>\n",
       "      <td>0.028234</td>\n",
       "      <td>-0.049139</td>\n",
       "    </tr>\n",
       "    <tr>\n",
       "      <th>serum_creatinine</th>\n",
       "      <td>0.159187</td>\n",
       "      <td>0.052174</td>\n",
       "      <td>-0.016408</td>\n",
       "      <td>-0.046975</td>\n",
       "      <td>-0.011302</td>\n",
       "      <td>-0.004935</td>\n",
       "      <td>-0.041198</td>\n",
       "      <td>1.000000</td>\n",
       "      <td>-0.189095</td>\n",
       "      <td>0.006970</td>\n",
       "      <td>-0.027414</td>\n",
       "      <td>0.294278</td>\n",
       "    </tr>\n",
       "    <tr>\n",
       "      <th>serum_sodium</th>\n",
       "      <td>-0.045966</td>\n",
       "      <td>0.041882</td>\n",
       "      <td>0.059550</td>\n",
       "      <td>-0.089551</td>\n",
       "      <td>0.175902</td>\n",
       "      <td>0.037109</td>\n",
       "      <td>0.062125</td>\n",
       "      <td>-0.189095</td>\n",
       "      <td>1.000000</td>\n",
       "      <td>-0.027566</td>\n",
       "      <td>0.004813</td>\n",
       "      <td>-0.195204</td>\n",
       "    </tr>\n",
       "    <tr>\n",
       "      <th>sex</th>\n",
       "      <td>0.065430</td>\n",
       "      <td>-0.094769</td>\n",
       "      <td>0.079791</td>\n",
       "      <td>-0.157730</td>\n",
       "      <td>-0.148386</td>\n",
       "      <td>-0.104615</td>\n",
       "      <td>-0.125120</td>\n",
       "      <td>0.006970</td>\n",
       "      <td>-0.027566</td>\n",
       "      <td>1.000000</td>\n",
       "      <td>0.445892</td>\n",
       "      <td>-0.004316</td>\n",
       "    </tr>\n",
       "    <tr>\n",
       "      <th>smoking</th>\n",
       "      <td>0.018668</td>\n",
       "      <td>-0.107290</td>\n",
       "      <td>0.002421</td>\n",
       "      <td>-0.147173</td>\n",
       "      <td>-0.067315</td>\n",
       "      <td>-0.055711</td>\n",
       "      <td>0.028234</td>\n",
       "      <td>-0.027414</td>\n",
       "      <td>0.004813</td>\n",
       "      <td>0.445892</td>\n",
       "      <td>1.000000</td>\n",
       "      <td>-0.012623</td>\n",
       "    </tr>\n",
       "    <tr>\n",
       "      <th>DEATH_EVENT</th>\n",
       "      <td>0.253729</td>\n",
       "      <td>0.066270</td>\n",
       "      <td>0.062728</td>\n",
       "      <td>-0.001943</td>\n",
       "      <td>-0.268603</td>\n",
       "      <td>0.079351</td>\n",
       "      <td>-0.049139</td>\n",
       "      <td>0.294278</td>\n",
       "      <td>-0.195204</td>\n",
       "      <td>-0.004316</td>\n",
       "      <td>-0.012623</td>\n",
       "      <td>1.000000</td>\n",
       "    </tr>\n",
       "  </tbody>\n",
       "</table>\n",
       "</div>"
      ],
      "text/plain": [
       "                               age   anaemia  creatinine_phosphokinase  \\\n",
       "age                       1.000000  0.088006                 -0.081584   \n",
       "anaemia                   0.088006  1.000000                 -0.190741   \n",
       "creatinine_phosphokinase -0.081584 -0.190741                  1.000000   \n",
       "diabetes                 -0.101012 -0.012729                 -0.009639   \n",
       "ejection_fraction         0.060098  0.031557                 -0.044080   \n",
       "high_blood_pressure       0.093289  0.038182                 -0.070590   \n",
       "platelets                -0.052354 -0.043786                  0.024463   \n",
       "serum_creatinine          0.159187  0.052174                 -0.016408   \n",
       "serum_sodium             -0.045966  0.041882                  0.059550   \n",
       "sex                       0.065430 -0.094769                  0.079791   \n",
       "smoking                   0.018668 -0.107290                  0.002421   \n",
       "DEATH_EVENT               0.253729  0.066270                  0.062728   \n",
       "\n",
       "                          diabetes  ejection_fraction  high_blood_pressure  \\\n",
       "age                      -0.101012           0.060098             0.093289   \n",
       "anaemia                  -0.012729           0.031557             0.038182   \n",
       "creatinine_phosphokinase -0.009639          -0.044080            -0.070590   \n",
       "diabetes                  1.000000          -0.004850            -0.012732   \n",
       "ejection_fraction        -0.004850           1.000000             0.024445   \n",
       "high_blood_pressure      -0.012732           0.024445             1.000000   \n",
       "platelets                 0.092193           0.072177             0.049963   \n",
       "serum_creatinine         -0.046975          -0.011302            -0.004935   \n",
       "serum_sodium             -0.089551           0.175902             0.037109   \n",
       "sex                      -0.157730          -0.148386            -0.104615   \n",
       "smoking                  -0.147173          -0.067315            -0.055711   \n",
       "DEATH_EVENT              -0.001943          -0.268603             0.079351   \n",
       "\n",
       "                          platelets  serum_creatinine  serum_sodium       sex  \\\n",
       "age                       -0.052354          0.159187     -0.045966  0.065430   \n",
       "anaemia                   -0.043786          0.052174      0.041882 -0.094769   \n",
       "creatinine_phosphokinase   0.024463         -0.016408      0.059550  0.079791   \n",
       "diabetes                   0.092193         -0.046975     -0.089551 -0.157730   \n",
       "ejection_fraction          0.072177         -0.011302      0.175902 -0.148386   \n",
       "high_blood_pressure        0.049963         -0.004935      0.037109 -0.104615   \n",
       "platelets                  1.000000         -0.041198      0.062125 -0.125120   \n",
       "serum_creatinine          -0.041198          1.000000     -0.189095  0.006970   \n",
       "serum_sodium               0.062125         -0.189095      1.000000 -0.027566   \n",
       "sex                       -0.125120          0.006970     -0.027566  1.000000   \n",
       "smoking                    0.028234         -0.027414      0.004813  0.445892   \n",
       "DEATH_EVENT               -0.049139          0.294278     -0.195204 -0.004316   \n",
       "\n",
       "                           smoking  DEATH_EVENT  \n",
       "age                       0.018668     0.253729  \n",
       "anaemia                  -0.107290     0.066270  \n",
       "creatinine_phosphokinase  0.002421     0.062728  \n",
       "diabetes                 -0.147173    -0.001943  \n",
       "ejection_fraction        -0.067315    -0.268603  \n",
       "high_blood_pressure      -0.055711     0.079351  \n",
       "platelets                 0.028234    -0.049139  \n",
       "serum_creatinine         -0.027414     0.294278  \n",
       "serum_sodium              0.004813    -0.195204  \n",
       "sex                       0.445892    -0.004316  \n",
       "smoking                   1.000000    -0.012623  \n",
       "DEATH_EVENT              -0.012623     1.000000  "
      ]
     },
     "execution_count": 97,
     "metadata": {},
     "output_type": "execute_result"
    }
   ],
   "source": [
    "corr = data.corr()\n",
    "corr"
   ]
  },
  {
   "cell_type": "code",
   "execution_count": 98,
   "id": "16c944f5",
   "metadata": {},
   "outputs": [
    {
     "data": {
      "text/plain": [
       "<AxesSubplot:>"
      ]
     },
     "execution_count": 98,
     "metadata": {},
     "output_type": "execute_result"
    },
    {
     "data": {
      "image/png": "[encoded data removed]",
      "text/plain": [
       "<Figure size 432x288 with 2 Axes>"
      ]
     },
     "metadata": {
      "needs_background": "light"
     },
     "output_type": "display_data"
    }
   ],
   "source": [
    "sns.heatmap(corr)"
   ]
  },
  {
   "cell_type": "code",
   "execution_count": 99,
   "id": "51462260",
   "metadata": {},
   "outputs": [],
   "source": [
    "###############################################################################\n",
    "#                              correlated features identification \n",
    "###############################################################################\n",
    "correlated_features = set()\n",
    "correlation_matrix = data.drop('DEATH_EVENT', axis=1).corr()\n",
    "\n",
    "for i in range(len(correlation_matrix.columns)):\n",
    "    for j in range(i):\n",
    "        if abs(correlation_matrix.iloc[i, j]) > 0.8:\n",
    "            colname = correlation_matrix.columns[i]\n",
    "            correlated_features.add(colname)\n"
   ]
  },
  {
   "cell_type": "code",
   "execution_count": 100,
   "id": "f1c21ac4",
   "metadata": {},
   "outputs": [
    {
     "data": {
      "text/plain": [
       "RFECV(cv=StratifiedKFold(n_splits=10, random_state=None, shuffle=False),\n",
       "      estimator=RandomForestClassifier(random_state=101), scoring='accuracy')"
      ]
     },
     "execution_count": 100,
     "metadata": {},
     "output_type": "execute_result"
    }
   ],
   "source": [
    "###############################################################################\n",
    "#                      Dimensionality reduction using RFECV \n",
    "###############################################################################\n",
    "X = data.drop('DEATH_EVENT', axis=1)\n",
    "target = data['DEATH_EVENT']\n",
    "\n",
    "rfc = RandomForestClassifier(random_state=101)\n",
    "rfecv = RFECV(estimator=rfc, step=1, cv=StratifiedKFold(10), scoring='accuracy')\n",
    "rfecv.fit(X, target)"
   ]
  },
  {
   "cell_type": "code",
   "execution_count": 101,
   "id": "aa220da9",
   "metadata": {},
   "outputs": [
    {
     "name": "stdout",
     "output_type": "stream",
     "text": [
      "[ 1  3  5  9 10]\n"
     ]
    }
   ],
   "source": [
    "print(np.where(rfecv.support_ == False)[0])\n",
    "X.drop(X.columns[np.where(rfecv.support_ == False)[0]], axis=1, inplace=True)"
   ]
  },
  {
   "cell_type": "code",
   "execution_count": 102,
   "id": "c17e46de",
   "metadata": {},
   "outputs": [
    {
     "data": {
      "text/plain": [
       "array([0.16105185, 0.15512285, 0.19164005, 0.15285816, 0.22456517,\n",
       "       0.11476192])"
      ]
     },
     "execution_count": 102,
     "metadata": {},
     "output_type": "execute_result"
    }
   ],
   "source": [
    "rfecv.estimator_.feature_importances_"
   ]
  },
  {
   "cell_type": "code",
   "execution_count": 103,
   "id": "8deb6eeb",
   "metadata": {},
   "outputs": [
    {
     "data": {
      "image/png": "[encoded data removed]",
      "text/plain": [
       "<Figure size 1152x720 with 1 Axes>"
      ]
     },
     "metadata": {
      "needs_background": "light"
     },
     "output_type": "display_data"
    }
   ],
   "source": [
    "dset = pd.DataFrame()\n",
    "dset['attr'] = X.columns\n",
    "dset['importance'] = rfecv.estimator_.feature_importances_\n",
    "dset = dset.sort_values(by='importance', ascending=False)\n",
    "\n",
    "plt.figure(figsize=(16, 10))\n",
    "plt.barh(y=dset['attr'], width=dset['importance'], color='#1976D2')\n",
    "plt.title('RFECV - Feature importances', fontsize=20, fontweight='bold', pad=20)\n",
    "plt.xlabel('Importance', fontsize=14, labelpad=20)\n",
    "plt.show()"
   ]
  },
  {
   "cell_type": "code",
   "execution_count": 104,
   "id": "cf547313",
   "metadata": {},
   "outputs": [
    {
     "name": "stdout",
     "output_type": "stream",
     "text": [
      "Index(['age', 'creatinine_phosphokinase', 'ejection_fraction', 'platelets',\n",
      "       'serum_creatinine', 'serum_sodium'],\n",
      "      dtype='object')\n"
     ]
    },
    {
     "data": {
      "text/plain": [
       "((299, 6), (299,))"
      ]
     },
     "execution_count": 104,
     "metadata": {},
     "output_type": "execute_result"
    }
   ],
   "source": [
    "y = target\n",
    "print(X.columns)\n",
    "X.shape, y.shape"
   ]
  },
  {
   "cell_type": "code",
   "execution_count": 105,
   "id": "ccbbf10a",
   "metadata": {},
   "outputs": [
    {
     "data": {
      "text/plain": [
       "((224, 6), (224,), (75, 6), (75,))"
      ]
     },
     "execution_count": 105,
     "metadata": {},
     "output_type": "execute_result"
    }
   ],
   "source": [
    "###############################################################################\n",
    "#                              TrainTest split method                         #\n",
    "###############################################################################\n",
    "X_train, X_test, y_train, y_test = train_test_split(X, y)\n",
    "X_train.shape, y_train.shape, X_test.shape, y_test.shape"
   ]
  },
  {
   "cell_type": "code",
   "execution_count": 106,
   "id": "90b66432",
   "metadata": {},
   "outputs": [],
   "source": [
    "##plotly.offline.plot(data, filename = 'C:/Users/mac4m/Documents/dswp/machine_learning_examples-master/parallel_coordinates_plot_16.html', auto_open= True)"
   ]
  },
  {
   "cell_type": "code",
   "execution_count": 107,
   "id": "35c199f9",
   "metadata": {},
   "outputs": [],
   "source": [
    "###############################################################################\n",
    "#                               4. Scale data                                 #\n",
    "###############################################################################\n",
    "sc = StandardScaler()\n",
    "X_train = sc.fit_transform(X_train)\n",
    "X_test = sc.transform(X_test)"
   ]
  },
  {
   "cell_type": "code",
   "execution_count": 108,
   "id": "888829df",
   "metadata": {},
   "outputs": [],
   "source": [
    "###############################################################################\n",
    "#                              5. Good Ol' Classifiers                        #\n",
    "###############################################################################\n",
    "\n",
    "# Initializing Random Forest classifier\n",
    "classifier1 = RandomForestClassifier(n_estimators = 500, criterion = \"gini\", max_depth = 10,\n",
    "                                     max_features = \"auto\", min_samples_leaf = 0.005,\n",
    "                                     min_samples_split = 0.005, n_jobs = -1, random_state = 1000)\n",
    "\n",
    "# Initializing for KNN classifier\n",
    "classifier2 = knn(n_neighbors=3)\n",
    "\n"
   ]
  },
  {
   "cell_type": "code",
   "execution_count": 109,
   "id": "eb93c7e2",
   "metadata": {},
   "outputs": [],
   "source": [
    "###############################################################################\n",
    "#                       7. Putting classifiers in a dictionary                #\n",
    "###############################################################################\n",
    "# Create list to store classifiers\n",
    "classifiers = {\"RF\": classifier1,\n",
    "               \"knn\": classifier2}"
   ]
  },
  {
   "cell_type": "code",
   "execution_count": 110,
   "id": "b277683f",
   "metadata": {},
   "outputs": [],
   "source": [
    "###############################################################################\n",
    "#                               8. Train classifiers                          #\n",
    "###############################################################################\n",
    "# Train classifiers\n",
    "for key in classifiers:\n",
    "    # Get classifier\n",
    "    classifier = classifiers[key]\n",
    "    \n",
    "    # Fit classifier\n",
    "    classifier.fit(X_train, y_train)\n",
    "        \n",
    "    # Save fitted classifier\n",
    "    classifiers[key] = classifier"
   ]
  },
  {
   "cell_type": "code",
   "execution_count": 111,
   "id": "e477c03f",
   "metadata": {},
   "outputs": [
    {
     "name": "stdout",
     "output_type": "stream",
     "text": [
      "Accuracy: 0.8266666666666667\n",
      "[[44  6]\n",
      " [ 7 18]]\n",
      "f1 Score: (array([0.88, 0.72]), array([0.8627451, 0.75     ]), array([0.87128713, 0.73469388]), array([51, 24], dtype=int64))\n"
     ]
    },
    {
     "data": {
      "image/png": "[encoded data removed]",
      "text/plain": [
       "<Figure size 288x288 with 2 Axes>"
      ]
     },
     "metadata": {
      "needs_background": "light"
     },
     "output_type": "display_data"
    },
    {
     "name": "stdout",
     "output_type": "stream",
     "text": [
      "Accuracy: 0.7333333333333333\n",
      "[[44 13]\n",
      " [ 7 11]]\n",
      "f1 Score: (array([0.77192982, 0.61111111]), array([0.8627451 , 0.45833333]), array([0.81481481, 0.52380952]), array([51, 24], dtype=int64))\n"
     ]
    },
    {
     "data": {
      "image/png": "[encoded data removed]",
      "text/plain": [
       "<Figure size 288x288 with 2 Axes>"
      ]
     },
     "metadata": {
      "needs_background": "light"
     },
     "output_type": "display_data"
    }
   ],
   "source": [
    "###############################################################################\n",
    "#                              9. Making predictions                          #\n",
    "###############################################################################\n",
    "# Get results\n",
    "results = pd.DataFrame()\n",
    "for key in classifiers:\n",
    "    # Make prediction on test set\n",
    "    y_pred = classifiers[key].predict_proba(X_test)[:,1]\n",
    "    \n",
    "    # Save results in pandas dataframe object\n",
    "    results[f\"{key}\"] = y_pred\n",
    "## run confusion matrix here\n",
    "    threshold = 0.50\n",
    "    y_pred1 = (classifiers[key].predict_proba(X_test)[:, 1] > threshold).astype('float')\n",
    "    print ('Accuracy:', accuracy_score(y_test, y_pred1))\n",
    "    print (cf(y_pred1,y_test))\n",
    "    print (\"f1 Score:\", f1(y_test, y_pred1))\n",
    "\n",
    "    plt.matshow(cf(y_test, y_pred1))\n",
    "    plt.title('Confusion matrix')\n",
    "    plt.colorbar()\n",
    "    plt.ylabel('True label')\n",
    "    plt.xlabel('Predicted label')\n",
    "    plt.show()\n",
    "# Add the test set to the results object\n",
    "results[\"Target\"] = y_test\n",
    "\n"
   ]
  },
  {
   "cell_type": "code",
   "execution_count": 112,
   "id": "bc32c1ae",
   "metadata": {},
   "outputs": [
    {
     "data": {
      "text/plain": [
       "array([0.66666667, 0.66666667, 0.        , 1.        , 0.33333333,\n",
       "       0.66666667, 0.33333333, 0.33333333, 0.        , 0.33333333,\n",
       "       0.        , 0.        , 0.33333333, 0.        , 1.        ,\n",
       "       0.        , 1.        , 0.        , 0.66666667, 1.        ,\n",
       "       0.33333333, 0.        , 0.33333333, 0.        , 0.        ,\n",
       "       0.        , 0.33333333, 0.66666667, 0.33333333, 0.        ,\n",
       "       0.        , 0.        , 0.33333333, 0.        , 0.        ,\n",
       "       0.        , 0.33333333, 0.        , 0.        , 0.        ,\n",
       "       0.        , 1.        , 0.33333333, 0.66666667, 0.33333333,\n",
       "       0.66666667, 0.        , 0.33333333, 0.        , 0.66666667,\n",
       "       0.33333333, 0.        , 0.66666667, 0.33333333, 0.        ,\n",
       "       0.        , 0.33333333, 0.66666667, 0.66666667, 0.33333333,\n",
       "       0.33333333, 0.33333333, 0.        , 0.66666667, 0.66666667,\n",
       "       0.33333333, 0.33333333, 0.33333333, 0.        , 0.        ,\n",
       "       0.33333333, 0.        , 0.        , 0.33333333, 0.        ])"
      ]
     },
     "execution_count": 112,
     "metadata": {},
     "output_type": "execute_result"
    }
   ],
   "source": [
    "y_pred"
   ]
  },
  {
   "cell_type": "code",
   "execution_count": 113,
   "id": "4cbd3df2",
   "metadata": {},
   "outputs": [
    {
     "data": {
      "text/plain": [
       "array([0.66666667, 0.66666667, 0.        , 1.        , 0.33333333,\n",
       "       0.66666667, 0.33333333, 0.33333333, 0.        , 0.33333333,\n",
       "       0.        , 0.        , 0.33333333, 0.        , 1.        ,\n",
       "       0.        , 1.        , 0.        , 0.66666667, 1.        ,\n",
       "       0.33333333, 0.        , 0.33333333, 0.        , 0.        ,\n",
       "       0.        , 0.33333333, 0.66666667, 0.33333333, 0.        ,\n",
       "       0.        , 0.        , 0.33333333, 0.        , 0.        ,\n",
       "       0.        , 0.33333333, 0.        , 0.        , 0.        ,\n",
       "       0.        , 1.        , 0.33333333, 0.66666667, 0.33333333,\n",
       "       0.66666667, 0.        , 0.33333333, 0.        , 0.66666667,\n",
       "       0.33333333, 0.        , 0.66666667, 0.33333333, 0.        ,\n",
       "       0.        , 0.33333333, 0.66666667, 0.66666667, 0.33333333,\n",
       "       0.33333333, 0.33333333, 0.        , 0.66666667, 0.66666667,\n",
       "       0.33333333, 0.33333333, 0.33333333, 0.        , 0.        ,\n",
       "       0.33333333, 0.        , 0.        , 0.33333333, 0.        ])"
      ]
     },
     "execution_count": 113,
     "metadata": {},
     "output_type": "execute_result"
    }
   ],
   "source": [
    "y_pred"
   ]
  },
  {
   "cell_type": "code",
   "execution_count": null,
   "id": "2e2c47d6-09e4-49f3-a5f4-719300b023f2",
   "metadata": {},
   "outputs": [],
   "source": []
  }
 ],
 "metadata": {
  "kernelspec": {
   "display_name": "Python 3 (ipykernel)",
   "language": "python",
   "name": "python3"
  },
  "language_info": {
   "codemirror_mode": {
    "name": "ipython",
    "version": 3
   },
   "file_extension": ".py",
   "mimetype": "text/x-python",
   "name": "python",
   "nbconvert_exporter": "python",
   "pygments_lexer": "ipython3",
   "version": "3.9.12"
  }
 },
 "nbformat": 4,
 "nbformat_minor": 5
}
